{
 "cells": [
  {
   "cell_type": "code",
   "execution_count": 23,
   "metadata": {},
   "outputs": [],
   "source": [
    "import ndjson\n",
    "import re\n",
    "import numpy as np"
   ]
  },
  {
   "cell_type": "code",
   "execution_count": 2,
   "metadata": {},
   "outputs": [],
   "source": [
    "with open('plane_carriers.ndjson') as f:\n",
    "    data = data = ndjson.load(f)"
   ]
  },
  {
   "cell_type": "code",
   "execution_count": null,
   "metadata": {},
   "outputs": [],
   "source": [
    "#need to include white spaces in the regex"
   ]
  },
  {
   "cell_type": "code",
   "execution_count": 21,
   "metadata": {},
   "outputs": [],
   "source": [
    "def clean_record(record):\n",
    "    '''\n",
    "    record is a dict with keys mentioned in schema\n",
    "    '''\n",
    "    word = record[\"word\"]\n",
    "    is_clean_word =  re.findall('[^a-zA-Z0-9]',word)\n",
    "    length_record = len(record[\"key_id\"])\n",
    "    if not is_clean_word and length_record ==16:\n",
    "        return True\n",
    "    else:\n",
    "        return False"
   ]
  },
  {
   "cell_type": "code",
   "execution_count": 9,
   "metadata": {},
   "outputs": [
    {
     "data": {
      "text/plain": [
       "[140,\n",
       " 194,\n",
       " 227,\n",
       " 232,\n",
       " 229,\n",
       " 229,\n",
       " 206,\n",
       " 124,\n",
       " 123,\n",
       " 149,\n",
       " 157,\n",
       " 159,\n",
       " 153,\n",
       " 110,\n",
       " 82,\n",
       " 77,\n",
       " 74,\n",
       " 109,\n",
       " 121,\n",
       " 127,\n",
       " 120]"
      ]
     },
     "execution_count": 9,
     "metadata": {},
     "output_type": "execute_result"
    }
   ],
   "source": [
    "data[0][\"drawing\"][0][1]"
   ]
  },
  {
   "cell_type": "code",
   "execution_count": 21,
   "metadata": {},
   "outputs": [],
   "source": [
    "a=[{\"word\":\"apple\",\"key_id\":\"1234567890123456\",\"drawing\":[[[12,13],[22,23]],[[34,35],[44,45]]],\"countrycode\":\"IN\"},{\"word\":\"apple1mango\",\"key_id\":\"123456789012345\"}]\n",
    "# collections = list(filter(clean_record,a))"
   ]
  },
  {
   "cell_type": "code",
   "execution_count": 18,
   "metadata": {},
   "outputs": [],
   "source": [
    "def euclidean_dist(x,y):\n",
    "    return np.sqrt(x**2+y**2)"
   ]
  },
  {
   "cell_type": "code",
   "execution_count": 16,
   "metadata": {},
   "outputs": [],
   "source": [
    "def second_task(record,target_word,dist):\n",
    "    l=euclidean_dist(record[\"drawing\"][0][0][0],record[\"drawing\"][0][1][0]\n",
    "    if record[\"word\"]==target_word and l):\n",
    "        print(record[\"countrycode\"],1)\n",
    "    \n",
    "    \n",
    "    \n",
    "    "
   ]
  },
  {
   "cell_type": "code",
   "execution_count": 24,
   "metadata": {},
   "outputs": [
    {
     "name": "stdout",
     "output_type": "stream",
     "text": [
      "IN 1\n"
     ]
    }
   ],
   "source": [
    "second_task(a[0],\"apple\",100)"
   ]
  },
  {
   "cell_type": "code",
   "execution_count": null,
   "metadata": {},
   "outputs": [],
   "source": []
  }
 ],
 "metadata": {
  "kernelspec": {
   "display_name": "Python 3",
   "language": "python",
   "name": "python3"
  },
  "language_info": {
   "codemirror_mode": {
    "name": "ipython",
    "version": 3
   },
   "file_extension": ".py",
   "mimetype": "text/x-python",
   "name": "python",
   "nbconvert_exporter": "python",
   "pygments_lexer": "ipython3",
   "version": "3.7.4"
  }
 },
 "nbformat": 4,
 "nbformat_minor": 2
}
